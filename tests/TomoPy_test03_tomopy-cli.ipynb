{
 "cells": [
  {
   "cell_type": "markdown",
   "metadata": {},
   "source": [
    "# TomoPy test 03\n",
    "#### Reconstruction using the TomoPy Command Line Interface (tomopy-cli) <br />\n",
    "Author: [Gianluca Iori](mailto:gianthk.iori@gmail.com)<br />\n",
    "Created on: 24-02-2021 <br />\n",
    "Modified on: 25-02-2021 <br />\n",
    "\n",
    "see also:\n",
    "https://tomopycli.readthedocs.io/en/latest/index.html"
   ]
  },
  {
   "cell_type": "code",
   "execution_count": 6,
   "metadata": {},
   "outputs": [
    {
     "data": {
      "text/html": [
       "<style>\n",
       "table {float:left}\n",
       "</style>\n"
      ],
      "text/plain": [
       "<IPython.core.display.HTML object>"
      ]
     },
     "metadata": {},
     "output_type": "display_data"
    }
   ],
   "source": [
    "%%html\n",
    "<style>\n",
    "table {float:left}\n",
    "</style>"
   ]
  },
  {
   "cell_type": "markdown",
   "metadata": {},
   "source": [
    "#### Display tomopy-cli help\n",
    "`$ tomopy recon -h`"
   ]
  },
  {
   "cell_type": "markdown",
   "metadata": {},
   "source": [
    "#### Init tomopy-cli configuration file\n",
    "`$ tomopy init --config ./config/example_03.conf`"
   ]
  },
  {
   "cell_type": "markdown",
   "metadata": {},
   "source": [
    "#### Visualize config file content\n",
    "`$ gedit ./../config/example_03.conf &`"
   ]
  },
  {
   "cell_type": "markdown",
   "metadata": {},
   "source": [
    "#### Parameters\n",
    "| Parameter | Value | Note |\n",
    "| :---------- | :---------- | :---------- |\n",
    "| --file-name | `/home/gianthk/Data/StefanFly_test/test_00_/test_00_.h5` |\n",
    "| --output-folder | `/home/gianthk/Data/StefanFly_test/test_00_/recon_cli` |\n",
    "| --remove-stripe-method | vo-all | |\n",
    "| --pixel-size-auto | | |\n",
    "| --reconstruction-algorithm | gridrec | |\n",
    "| --reconstruction-mask | True | |\n",
    "| --reconstruction-mask-ratio | 0.95 | |\n",
    "| --reconstruction-type | try | multiple reconstruction of the same slice with different COR are generated |\n",
    "|  | slice | reconstruct 1 slice |\n",
    "|  | full | reconstruct full dataset |"
   ]
  },
  {
   "cell_type": "markdown",
   "metadata": {},
   "source": [
    "#### Find Center Of Rotation (COR)\n",
    "Processes all `.h5` files contained in the folder and generates a YAML file (default: extra_params.yaml) containing all the automatically calculated CORs <br />\n",
    "The `.yaml` file is placed in the /local/data/ directory <br />\n",
    "`$ tomopy find_center --file-name /local/data/`"
   ]
  },
  {
   "cell_type": "markdown",
   "metadata": {},
   "source": [
    "#### Reconstruction with tomopy-cli\n",
    "We modified the file `example_03.conf` and set the parameter `reconstruction-type = full` (line 97) <br />\n",
    "To perform first a test recon of one single slice use `reconstruction-type = slice` instead <br />\n",
    "`$ tomopy recon --file-name /home/gianthk/Data/StefanFly_test/test_00_/test_00_.h5 --config /home/gianthk/PycharmProjects/BEATS/tomopy_tests/config/example_03.conf --reconstruction-type slice`"
   ]
  },
  {
   "cell_type": "markdown",
   "metadata": {},
   "source": [
    "After checking that all is fine we can run the recon of the full dataset <br />\n",
    "`$ tomopy recon --file-name /home/gianthk/Data/StefanFly_test/test_00_/test_00_.h5 --config /home/gianthk/PycharmProjects/BEATS/tomopy_tests/config/example_03.conf`"
   ]
  }
 ],
 "metadata": {
  "kernelspec": {
   "display_name": "conda (tomopy-source)",
   "language": "python",
   "name": "tomopy-source"
  },
  "language_info": {
   "codemirror_mode": {
    "name": "ipython",
    "version": 3
   },
   "file_extension": ".py",
   "mimetype": "text/x-python",
   "name": "python",
   "nbconvert_exporter": "python",
   "pygments_lexer": "ipython3",
   "version": "3.7.12"
  }
 },
 "nbformat": 4,
 "nbformat_minor": 4
}
