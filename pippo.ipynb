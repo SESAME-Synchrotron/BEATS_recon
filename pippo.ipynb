{
 "cells": [
  {
   "cell_type": "code",
   "execution_count": 1,
   "id": "a334e7d9-45c4-4e2b-994f-75a3eed207fd",
   "metadata": {
    "tags": []
   },
   "outputs": [
    {
     "name": "stdout",
     "output_type": "stream",
     "text": [
      "/home/gianthk/PycharmProjects/BEATS/BEATS_recon/examples/solara/alrecon-1page\n"
     ]
    }
   ],
   "source": [
    "cd examples/solara/alrecon-1page/"
   ]
  },
  {
   "cell_type": "code",
   "execution_count": 2,
   "id": "1b46b644-c15f-454e-8135-1bb4b0e066f5",
   "metadata": {
    "tags": []
   },
   "outputs": [],
   "source": [
    "from sol import Page, PageSettings"
   ]
  },
  {
   "cell_type": "code",
   "execution_count": 3,
   "id": "cfa20bb2-41e9-4587-880c-4fc4c322de97",
   "metadata": {
    "tags": []
   },
   "outputs": [
    {
     "name": "stdout",
     "output_type": "stream",
     "text": [
      "Cannot read n. of projections\n",
      "Cannot read n. of projections\n"
     ]
    },
    {
     "data": {
      "application/vnd.jupyter.widget-view+json": {
       "model_id": "ece522419af24be4a66ad7d78c981d33",
       "version_major": 2,
       "version_minor": 0
      },
      "text/html": [
       "Cannot show widget. You probably want to rerun the code cell above (<i>Click in the code cell, and press Shift+Enter <kbd>⇧</kbd>+<kbd>↩</kbd></i>)."
      ],
      "text/plain": [
       "Cannot show ipywidgets in text"
      ]
     },
     "metadata": {},
     "output_type": "display_data"
    }
   ],
   "source": [
    "Page()"
   ]
  },
  {
   "cell_type": "code",
   "execution_count": 2,
   "id": "08c75f3f-46f9-4750-b12b-05779a272f50",
   "metadata": {
    "scrolled": true
   },
   "outputs": [],
   "source": [
    "# PageSettings()"
   ]
  }
 ],
 "metadata": {
  "kernelspec": {
   "display_name": "Python 3 (ipykernel)",
   "language": "python",
   "name": "python3"
  },
  "language_info": {
   "codemirror_mode": {
    "name": "ipython",
    "version": 3
   },
   "file_extension": ".py",
   "mimetype": "text/x-python",
   "name": "python",
   "nbconvert_exporter": "python",
   "pygments_lexer": "ipython3",
   "version": "3.8.17"
  }
 },
 "nbformat": 4,
 "nbformat_minor": 5
}
